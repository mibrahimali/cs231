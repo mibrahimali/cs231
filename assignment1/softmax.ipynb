{
 "cells": [
  {
   "cell_type": "markdown",
   "metadata": {},
   "source": [
    "# Softmax exercise\n",
    "\n",
    "*Complete and hand in this completed worksheet (including its outputs and any supporting code outside of the worksheet) with your assignment submission. For more details see the [assignments page](http://vision.stanford.edu/teaching/cs231n/assignments.html) on the course website.*\n",
    "\n",
    "This exercise is analogous to the SVM exercise. You will:\n",
    "\n",
    "- implement a fully-vectorized **loss function** for the Softmax classifier\n",
    "- implement the fully-vectorized expression for its **analytic gradient**\n",
    "- **check your implementation** with numerical gradient\n",
    "- use a validation set to **tune the learning rate and regularization** strength\n",
    "- **optimize** the loss function with **SGD**\n",
    "- **visualize** the final learned weights\n"
   ]
  },
  {
   "cell_type": "code",
   "execution_count": 1,
   "metadata": {
    "collapsed": false
   },
   "outputs": [],
   "source": [
    "import random\n",
    "import numpy as np\n",
    "from cs231n.data_utils import load_CIFAR10\n",
    "import matplotlib.pyplot as plt\n",
    "%matplotlib inline\n",
    "plt.rcParams['figure.figsize'] = (10.0, 8.0) # set default size of plots\n",
    "plt.rcParams['image.interpolation'] = 'nearest'\n",
    "plt.rcParams['image.cmap'] = 'gray'\n",
    "\n",
    "# for auto-reloading extenrnal modules\n",
    "# see http://stackoverflow.com/questions/1907993/autoreload-of-modules-in-ipython\n",
    "%load_ext autoreload\n",
    "%autoreload 2"
   ]
  },
  {
   "cell_type": "code",
   "execution_count": 2,
   "metadata": {
    "collapsed": false
   },
   "outputs": [
    {
     "name": "stdout",
     "output_type": "stream",
     "text": [
      "Train data shape:  (49000, 3073)\n",
      "Train labels shape:  (49000,)\n",
      "Validation data shape:  (1000, 3073)\n",
      "Validation labels shape:  (1000,)\n",
      "Test data shape:  (1000, 3073)\n",
      "Test labels shape:  (1000,)\n",
      "dev data shape:  (500, 3073)\n",
      "dev labels shape:  (500,)\n"
     ]
    }
   ],
   "source": [
    "def get_CIFAR10_data(num_training=49000, num_validation=1000, num_test=1000, num_dev=500):\n",
    "  \"\"\"\n",
    "  Load the CIFAR-10 dataset from disk and perform preprocessing to prepare\n",
    "  it for the linear classifier. These are the same steps as we used for the\n",
    "  SVM, but condensed to a single function.  \n",
    "  \"\"\"\n",
    "  # Load the raw CIFAR-10 data\n",
    "  cifar10_dir = 'cs231n/datasets/cifar-10-batches-py'\n",
    "  X_train, y_train, X_test, y_test = load_CIFAR10(cifar10_dir)\n",
    "  \n",
    "  # subsample the data\n",
    "  mask = range(num_training, num_training + num_validation)\n",
    "  X_val = X_train[mask]\n",
    "  y_val = y_train[mask]\n",
    "  mask = range(num_training)\n",
    "  X_train = X_train[mask]\n",
    "  y_train = y_train[mask]\n",
    "  mask = range(num_test)\n",
    "  X_test = X_test[mask]\n",
    "  y_test = y_test[mask]\n",
    "  mask = np.random.choice(num_training, num_dev, replace=False)\n",
    "  X_dev = X_train[mask]\n",
    "  y_dev = y_train[mask]\n",
    "  \n",
    "  # Preprocessing: reshape the image data into rows\n",
    "  X_train = np.reshape(X_train, (X_train.shape[0], -1))\n",
    "  X_val = np.reshape(X_val, (X_val.shape[0], -1))\n",
    "  X_test = np.reshape(X_test, (X_test.shape[0], -1))\n",
    "  X_dev = np.reshape(X_dev, (X_dev.shape[0], -1))\n",
    "  # Normalize the data: subtract the mean image\n",
    "  mean_image = np.mean(X_train, axis = 0)\n",
    "  X_train -= mean_image\n",
    "  X_val -= mean_image\n",
    "  X_test -= mean_image\n",
    "  X_dev -= mean_image\n",
    "  \n",
    "  # add bias dimension and transform into columns\n",
    "  X_train = np.hstack([X_train, np.ones((X_train.shape[0], 1))])\n",
    "  X_val = np.hstack([X_val, np.ones((X_val.shape[0], 1))])\n",
    "  X_test = np.hstack([X_test, np.ones((X_test.shape[0], 1))])\n",
    "  X_dev = np.hstack([X_dev, np.ones((X_dev.shape[0], 1))])\n",
    "  \n",
    "  return X_train, y_train, X_val, y_val, X_test, y_test, X_dev, y_dev\n",
    "\n",
    "\n",
    "# Invoke the above function to get our data.\n",
    "X_train, y_train, X_val, y_val, X_test, y_test, X_dev, y_dev = get_CIFAR10_data()\n",
    "print 'Train data shape: ', X_train.shape\n",
    "print 'Train labels shape: ', y_train.shape\n",
    "print 'Validation data shape: ', X_val.shape\n",
    "print 'Validation labels shape: ', y_val.shape\n",
    "print 'Test data shape: ', X_test.shape\n",
    "print 'Test labels shape: ', y_test.shape\n",
    "print 'dev data shape: ', X_dev.shape\n",
    "print 'dev labels shape: ', y_dev.shape"
   ]
  },
  {
   "cell_type": "markdown",
   "metadata": {},
   "source": [
    "## Softmax Classifier\n",
    "\n",
    "Your code for this section will all be written inside **cs231n/classifiers/softmax.py**. \n"
   ]
  },
  {
   "cell_type": "code",
   "execution_count": 5,
   "metadata": {
    "collapsed": false
   },
   "outputs": [
    {
     "name": "stdout",
     "output_type": "stream",
     "text": [
      "loss: 2.383803\n",
      "sanity check: 2.302585\n"
     ]
    }
   ],
   "source": [
    "# First implement the naive softmax loss function with nested loops.\n",
    "# Open the file cs231n/classifiers/softmax.py and implement the\n",
    "# softmax_loss_naive function.\n",
    "\n",
    "from cs231n.classifiers.softmax import softmax_loss_naive\n",
    "import time\n",
    "\n",
    "# Generate a random softmax weight matrix and use it to compute the loss.\n",
    "# np.random.seed(0)  # for debugging purpose \n",
    "W = np.random.randn(3073, 10) * 0.0001\n",
    "loss, grad = softmax_loss_naive(W, X_dev, y_dev, 0.0)\n",
    "\n",
    "# As a rough sanity check, our loss should be something close to -log(0.1).\n",
    "print 'loss: %f' % loss\n",
    "print 'sanity check: %f' % (-np.log(0.1))"
   ]
  },
  {
   "cell_type": "markdown",
   "metadata": {},
   "source": [
    "## Inline Question 1:\n",
    "Why do we expect our loss to be close to -log(0.1)? Explain briefly.**\n",
    "\n",
    "**Your answer:** starting with random weights it give a uniform  probability distrbution over all possible outputs so every output has a probabilty of ( 1/ num_of_outputs) = 0.1 \n"
   ]
  },
  {
   "cell_type": "code",
   "execution_count": 6,
   "metadata": {
    "collapsed": false
   },
   "outputs": [
    {
     "name": "stdout",
     "output_type": "stream",
     "text": [
      "numerical: -3.267520 analytic: -3.267520, relative error: 8.144813e-09\n",
      "numerical: -0.636242 analytic: -0.636242, relative error: 1.343812e-08\n",
      "numerical: -1.847735 analytic: -1.847735, relative error: 1.708735e-08\n",
      "numerical: -3.413107 analytic: -3.413107, relative error: 8.021919e-09\n",
      "numerical: -0.053147 analytic: -0.053147, relative error: 5.092799e-07\n",
      "numerical: -2.039115 analytic: -2.039115, relative error: 1.016874e-09\n",
      "numerical: 1.130399 analytic: 1.130399, relative error: 2.713217e-08\n",
      "numerical: -0.230415 analytic: -0.230415, relative error: 5.316232e-08\n",
      "numerical: -1.846869 analytic: -1.846869, relative error: 1.698230e-08\n",
      "numerical: 3.235720 analytic: 3.235720, relative error: 2.083166e-08\n",
      "numerical: 0.484146 analytic: 0.484146, relative error: 6.923334e-08\n",
      "numerical: -0.286383 analytic: -0.286383, relative error: 1.769448e-07\n",
      "numerical: -5.468746 analytic: -5.468746, relative error: 1.725883e-09\n",
      "numerical: -0.171700 analytic: -0.171700, relative error: 5.866445e-09\n",
      "numerical: 3.428768 analytic: 3.428768, relative error: 1.389432e-08\n",
      "numerical: 2.033931 analytic: 2.033931, relative error: 1.231340e-08\n",
      "numerical: -0.200875 analytic: -0.200875, relative error: 3.281192e-07\n",
      "numerical: 1.494392 analytic: 1.494392, relative error: 2.272998e-08\n",
      "numerical: 0.163162 analytic: 0.163162, relative error: 2.118020e-07\n",
      "numerical: -0.302578 analytic: -0.302578, relative error: 4.958662e-08\n"
     ]
    }
   ],
   "source": [
    "# Complete the implementation of softmax_loss_naive and implement a (naive)\n",
    "# version of the gradient that uses nested loops.\n",
    "loss, grad = softmax_loss_naive(W, X_dev, y_dev, 0.0)\n",
    "\n",
    "# As we did for the SVM, use numeric gradient checking as a debugging tool.\n",
    "# The numeric gradient should be close to the analytic gradient.\n",
    "from cs231n.gradient_check import grad_check_sparse\n",
    "f = lambda w: softmax_loss_naive(w, X_dev, y_dev, 0.0)[0]\n",
    "grad_numerical = grad_check_sparse(f, W, grad, 10)\n",
    "\n",
    "# similar to SVM case, do another gradient check with regularization\n",
    "loss, grad = softmax_loss_naive(W, X_dev, y_dev, 1e2)\n",
    "f = lambda w: softmax_loss_naive(w, X_dev, y_dev, 1e2)[0]\n",
    "grad_numerical = grad_check_sparse(f, W, grad, 10)"
   ]
  },
  {
   "cell_type": "code",
   "execution_count": 7,
   "metadata": {
    "collapsed": false,
    "scrolled": false
   },
   "outputs": [
    {
     "name": "stdout",
     "output_type": "stream",
     "text": [
      "naive loss: 2.383803e+00 computed in 0.147631s\n",
      "vectorized loss: 2.383803e+00 computed in 0.050096s\n",
      "Loss difference: 0.000000\n",
      "Gradient difference: 0.000000\n"
     ]
    }
   ],
   "source": [
    "# Now that we have a naive implementation of the softmax loss function and its gradient,\n",
    "# implement a vectorized version in softmax_loss_vectorized.\n",
    "# The two versions should compute the same results, but the vectorized version should be\n",
    "# much faster.\n",
    "tic = time.time()\n",
    "loss_naive, grad_naive = softmax_loss_naive(W, X_dev, y_dev, 0.00001)\n",
    "toc = time.time()\n",
    "print 'naive loss: %e computed in %fs' % (loss_naive, toc - tic)\n",
    "\n",
    "from cs231n.classifiers.softmax import softmax_loss_vectorized\n",
    "tic = time.time()\n",
    "loss_vectorized, grad_vectorized = softmax_loss_vectorized(W, X_dev, y_dev, 0.00001)\n",
    "toc = time.time()\n",
    "print 'vectorized loss: %e computed in %fs' % (loss_vectorized, toc - tic)\n",
    "\n",
    "# As we did for the SVM, we use the Frobenius norm to compare the two versions\n",
    "# of the gradient.\n",
    "grad_difference = np.linalg.norm(grad_naive - grad_vectorized, ord='fro')\n",
    "print 'Loss difference: %f' % np.abs(loss_naive - loss_vectorized)\n",
    "print 'Gradient difference: %f' % grad_difference"
   ]
  },
  {
   "cell_type": "code",
   "execution_count": 9,
   "metadata": {
    "collapsed": false,
    "scrolled": true
   },
   "outputs": [
    {
     "name": "stderr",
     "output_type": "stream",
     "text": [
      "cs231n/classifiers/softmax.py:79: RuntimeWarning: divide by zero encountered in log\n",
      "  loss_vec = -1 * np.log (probabilites_of_classes[range(N),y])\n",
      "cs231n/classifiers/softmax.py:89: RuntimeWarning: overflow encountered in double_scalars\n",
      "  loss += 0.5 * reg * np.sum(W * W)\n",
      "cs231n/classifiers/softmax.py:89: RuntimeWarning: overflow encountered in multiply\n",
      "  loss += 0.5 * reg * np.sum(W * W)\n"
     ]
    },
    {
     "name": "stdout",
     "output_type": "stream",
     "text": [
      "lr 1.000000e-07 reg 5.000000e+04 train accuracy: 0.147939 val accuracy: 0.140000\n",
      "lr 1.000000e-07 reg 1.000000e+08 train accuracy: 0.077367 val accuracy: 0.075000\n",
      "lr 5.000000e-07 reg 5.000000e+04 train accuracy: 0.303918 val accuracy: 0.304000\n",
      "lr 5.000000e-07 reg 1.000000e+08 train accuracy: 0.094204 val accuracy: 0.085000\n",
      "best validation accuracy achieved during cross-validation: 0.304000\n"
     ]
    }
   ],
   "source": [
    "# Use the validation set to tune hyperparameters (regularization strength and\n",
    "# learning rate). You should experiment with different ranges for the learning\n",
    "# rates and regularization strengths; if you are careful you should be able to\n",
    "# get a classification accuracy of over 0.35 on the validation set.\n",
    "from cs231n.classifiers import Softmax\n",
    "results = {}\n",
    "best_val = -1\n",
    "best_softmax = None\n",
    "learning_rates = [1e-7, 5e-7]\n",
    "regularization_strengths = [5e4, 1e8]\n",
    "\n",
    "################################################################################\n",
    "# TODO:                                                                        #\n",
    "# Use the validation set to set the learning rate and regularization strength. #\n",
    "# This should be identical to the validation that you did for the SVM; save    #\n",
    "# the best trained softmax classifer in best_softmax.                          #\n",
    "################################################################################\n",
    "for L in range(len(learning_rates)):\n",
    "    for R in range(len(regularization_strengths)):\n",
    "        SM_classifier = Softmax()\n",
    "        SM_classifier.train(X_train,y_train,learning_rate=learning_rates[L],\n",
    "                                             reg=regularization_strengths[R])\n",
    "        y_pred = SM_classifier.predict(X_train)\n",
    "        train_accuracy = np.mean(y_pred == y_train)\n",
    "        \n",
    "        y_pred = SM_classifier.predict(X_val)\n",
    "        val_accuracy = np.mean(y_pred == y_val)\n",
    "        results[(learning_rates[L],regularization_strengths[R])]=(train_accuracy,val_accuracy)\n",
    "        if val_accuracy > best_val:\n",
    "            best_val = val_accuracy\n",
    "            best_softmax = SM_classifier\n",
    "################################################################################\n",
    "#                              END OF YOUR CODE                                #\n",
    "################################################################################\n",
    "    \n",
    "# Print out results.\n",
    "for lr, reg in sorted(results):\n",
    "    train_accuracy, val_accuracy = results[(lr, reg)]\n",
    "    print 'lr %e reg %e train accuracy: %f val accuracy: %f' % (\n",
    "                lr, reg, train_accuracy, val_accuracy)\n",
    "    \n",
    "print 'best validation accuracy achieved during cross-validation: %f' % best_val"
   ]
  },
  {
   "cell_type": "code",
   "execution_count": 10,
   "metadata": {
    "collapsed": false
   },
   "outputs": [
    {
     "name": "stdout",
     "output_type": "stream",
     "text": [
      "iteration 0 / 10000: loss 6.912756\n",
      "iteration 100 / 10000: loss 2.141964\n",
      "iteration 200 / 10000: loss 2.122091\n",
      "iteration 300 / 10000: loss 2.098252\n",
      "iteration 400 / 10000: loss 2.111604\n",
      "iteration 500 / 10000: loss 2.116483\n",
      "iteration 600 / 10000: loss 2.072360\n",
      "iteration 700 / 10000: loss 2.173260\n",
      "iteration 800 / 10000: loss 2.085107\n",
      "iteration 900 / 10000: loss 2.098072\n",
      "iteration 1000 / 10000: loss 2.056223\n",
      "iteration 1100 / 10000: loss 2.103981\n",
      "iteration 1200 / 10000: loss 2.055843\n",
      "iteration 1300 / 10000: loss 2.061591\n",
      "iteration 1400 / 10000: loss 2.026963\n",
      "iteration 1500 / 10000: loss 2.114552\n",
      "iteration 1600 / 10000: loss 2.083350\n",
      "iteration 1700 / 10000: loss 2.071725\n",
      "iteration 1800 / 10000: loss 2.104909\n",
      "iteration 1900 / 10000: loss 2.118530\n",
      "iteration 2000 / 10000: loss 2.058000\n",
      "iteration 2100 / 10000: loss 2.051917\n",
      "iteration 2200 / 10000: loss 2.119611\n",
      "iteration 2300 / 10000: loss 2.153112\n",
      "iteration 2400 / 10000: loss 2.067575\n",
      "iteration 2500 / 10000: loss 2.096941\n",
      "iteration 2600 / 10000: loss 2.096035\n",
      "iteration 2700 / 10000: loss 2.047376\n",
      "iteration 2800 / 10000: loss 2.062669\n",
      "iteration 2900 / 10000: loss 2.081501\n",
      "iteration 3000 / 10000: loss 2.134476\n",
      "iteration 3100 / 10000: loss 2.124251\n",
      "iteration 3200 / 10000: loss 2.060076\n",
      "iteration 3300 / 10000: loss 2.092902\n",
      "iteration 3400 / 10000: loss 2.116675\n",
      "iteration 3500 / 10000: loss 2.140324\n",
      "iteration 3600 / 10000: loss 2.069714\n",
      "iteration 3700 / 10000: loss 2.035701\n",
      "iteration 3800 / 10000: loss 2.036368\n",
      "iteration 3900 / 10000: loss 2.090611\n",
      "iteration 4000 / 10000: loss 2.128522\n",
      "iteration 4100 / 10000: loss 2.081359\n",
      "iteration 4200 / 10000: loss 2.107278\n",
      "iteration 4300 / 10000: loss 2.058369\n",
      "iteration 4400 / 10000: loss 2.102838\n",
      "iteration 4500 / 10000: loss 2.074930\n",
      "iteration 4600 / 10000: loss 2.033651\n",
      "iteration 4700 / 10000: loss 2.068848\n",
      "iteration 4800 / 10000: loss 2.057141\n",
      "iteration 4900 / 10000: loss 2.100786\n",
      "iteration 5000 / 10000: loss 2.115629\n",
      "iteration 5100 / 10000: loss 2.038920\n",
      "iteration 5200 / 10000: loss 2.127749\n",
      "iteration 5300 / 10000: loss 2.076260\n",
      "iteration 5400 / 10000: loss 2.026401\n",
      "iteration 5500 / 10000: loss 2.057164\n",
      "iteration 5600 / 10000: loss 2.142865\n",
      "iteration 5700 / 10000: loss 2.111364\n",
      "iteration 5800 / 10000: loss 2.059478\n",
      "iteration 5900 / 10000: loss 2.095808\n",
      "iteration 6000 / 10000: loss 2.113420\n",
      "iteration 6100 / 10000: loss 2.082265\n",
      "iteration 6200 / 10000: loss 2.101095\n",
      "iteration 6300 / 10000: loss 2.103034\n",
      "iteration 6400 / 10000: loss 2.162160\n",
      "iteration 6500 / 10000: loss 2.066229\n",
      "iteration 6600 / 10000: loss 2.076854\n",
      "iteration 6700 / 10000: loss 2.104649\n",
      "iteration 6800 / 10000: loss 2.112073\n",
      "iteration 6900 / 10000: loss 2.067380\n",
      "iteration 7000 / 10000: loss 2.113540\n",
      "iteration 7100 / 10000: loss 2.068723\n",
      "iteration 7200 / 10000: loss 2.128626\n",
      "iteration 7300 / 10000: loss 2.130112\n",
      "iteration 7400 / 10000: loss 2.059051\n",
      "iteration 7500 / 10000: loss 2.060382\n",
      "iteration 7600 / 10000: loss 2.063341\n",
      "iteration 7700 / 10000: loss 2.136219\n",
      "iteration 7800 / 10000: loss 2.140833\n",
      "iteration 7900 / 10000: loss 2.109337\n",
      "iteration 8000 / 10000: loss 2.067891\n",
      "iteration 8100 / 10000: loss 2.059487\n",
      "iteration 8200 / 10000: loss 2.067644\n",
      "iteration 8300 / 10000: loss 2.153314\n",
      "iteration 8400 / 10000: loss 2.066341\n",
      "iteration 8500 / 10000: loss 2.126304\n",
      "iteration 8600 / 10000: loss 2.055407\n",
      "iteration 8700 / 10000: loss 2.080288\n",
      "iteration 8800 / 10000: loss 2.075892\n",
      "iteration 8900 / 10000: loss 2.079325\n",
      "iteration 9000 / 10000: loss 2.094030\n",
      "iteration 9100 / 10000: loss 2.101859\n",
      "iteration 9200 / 10000: loss 2.059630\n",
      "iteration 9300 / 10000: loss 2.103560\n",
      "iteration 9400 / 10000: loss 2.083742\n",
      "iteration 9500 / 10000: loss 2.047578\n",
      "iteration 9600 / 10000: loss 2.098249\n",
      "iteration 9700 / 10000: loss 2.070367\n",
      "iteration 9800 / 10000: loss 2.058306\n",
      "iteration 9900 / 10000: loss 2.050941\n",
      "softmax on raw pixels final test set accuracy: 0.343000\n"
     ]
    }
   ],
   "source": [
    "best_softmax.train(X_train,y_train,learning_rate=5e-7,reg=5e4,num_iters=10000,verbose=True)\n",
    "# evaluate on test set\n",
    "# Evaluate the best softmax on test set\n",
    "y_test_pred = best_softmax.predict(X_test)\n",
    "test_accuracy = np.mean(y_test == y_test_pred)\n",
    "print 'softmax on raw pixels final test set accuracy: %f' % (test_accuracy, )"
   ]
  },
  {
   "cell_type": "code",
   "execution_count": 11,
   "metadata": {
    "collapsed": false
   },
   "outputs": [
    {
     "data": {
      "image/png": "[encoded data removed]",
      "text/plain": [
       "<matplotlib.figure.Figure at 0x7fe220348490>"
      ]
     },
     "metadata": {},
     "output_type": "display_data"
    }
   ],
   "source": [
    "# Visualize the learned weights for each class\n",
    "w = best_softmax.W[:-1,:] # strip out the bias\n",
    "w = w.reshape(32, 32, 3, 10)\n",
    "\n",
    "w_min, w_max = np.min(w), np.max(w)\n",
    "\n",
    "classes = ['plane', 'car', 'bird', 'cat', 'deer', 'dog', 'frog', 'horse', 'ship', 'truck']\n",
    "for i in xrange(10):\n",
    "  plt.subplot(2, 5, i + 1)\n",
    "  \n",
    "  # Rescale the weights to be between 0 and 255\n",
    "  wimg = 255.0 * (w[:, :, :, i].squeeze() - w_min) / (w_max - w_min)\n",
    "  plt.imshow(wimg.astype('uint8'))\n",
    "  plt.axis('off')\n",
    "  plt.title(classes[i])"
   ]
  },
  {
   "cell_type": "code",
   "execution_count": null,
   "metadata": {
    "collapsed": true
   },
   "outputs": [],
   "source": []
  }
 ],
 "metadata": {
  "kernelspec": {
   "display_name": "Python 2",
   "language": "python",
   "name": "python2"
  },
  "language_info": {
   "codemirror_mode": {
    "name": "ipython",
    "version": 2
   },
   "file_extension": ".py",
   "mimetype": "text/x-python",
   "name": "python",
   "nbconvert_exporter": "python",
   "pygments_lexer": "ipython2",
   "version": "2.7.6"
  }
 },
 "nbformat": 4,
 "nbformat_minor": 0
}
